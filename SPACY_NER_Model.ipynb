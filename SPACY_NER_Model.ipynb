{
 "cells": [
  {
   "cell_type": "code",
   "execution_count": 1,
   "metadata": {
    "colab": {
     "base_uri": "https://localhost:8080/"
    },
    "id": "Amd9yzdB2OQk",
    "outputId": "45dfece9-7c81-4fa6-a717-0d77dfa0f23e"
   },
   "outputs": [
    {
     "name": "stdout",
     "output_type": "stream",
     "text": [
      "Looking in indexes: https://pypi.org/simple, https://us-python.pkg.dev/colab-wheels/public/simple/\n",
      "Requirement already satisfied: spacy in /usr/local/lib/python3.9/dist-packages (3.4.4)\n",
      "Requirement already satisfied: preshed<3.1.0,>=3.0.2 in /usr/local/lib/python3.9/dist-packages (from spacy) (3.0.8)\n",
      "Requirement already satisfied: catalogue<2.1.0,>=2.0.6 in /usr/local/lib/python3.9/dist-packages (from spacy) (2.0.8)\n",
      "Requirement already satisfied: packaging>=20.0 in /usr/local/lib/python3.9/dist-packages (from spacy) (23.0)\n",
      "Requirement already satisfied: setuptools in /usr/local/lib/python3.9/dist-packages (from spacy) (63.4.3)\n",
      "Requirement already satisfied: pathy>=0.3.5 in /usr/local/lib/python3.9/dist-packages (from spacy) (0.10.1)\n",
      "Requirement already satisfied: spacy-loggers<2.0.0,>=1.0.0 in /usr/local/lib/python3.9/dist-packages (from spacy) (1.0.4)\n",
      "Requirement already satisfied: wasabi<1.1.0,>=0.9.1 in /usr/local/lib/python3.9/dist-packages (from spacy) (0.10.1)\n",
      "Requirement already satisfied: murmurhash<1.1.0,>=0.28.0 in /usr/local/lib/python3.9/dist-packages (from spacy) (1.0.9)\n",
      "Requirement already satisfied: spacy-legacy<3.1.0,>=3.0.10 in /usr/local/lib/python3.9/dist-packages (from spacy) (3.0.12)\n",
      "Requirement already satisfied: langcodes<4.0.0,>=3.2.0 in /usr/local/lib/python3.9/dist-packages (from spacy) (3.3.0)\n",
      "Requirement already satisfied: thinc<8.2.0,>=8.1.0 in /usr/local/lib/python3.9/dist-packages (from spacy) (8.1.9)\n",
      "Requirement already satisfied: pydantic!=1.8,!=1.8.1,<1.11.0,>=1.7.4 in /usr/local/lib/python3.9/dist-packages (from spacy) (1.10.6)\n",
      "Requirement already satisfied: requests<3.0.0,>=2.13.0 in /usr/local/lib/python3.9/dist-packages (from spacy) (2.25.1)\n",
      "Requirement already satisfied: cymem<2.1.0,>=2.0.2 in /usr/local/lib/python3.9/dist-packages (from spacy) (2.0.7)\n",
      "Requirement already satisfied: srsly<3.0.0,>=2.4.3 in /usr/local/lib/python3.9/dist-packages (from spacy) (2.4.6)\n",
      "Requirement already satisfied: tqdm<5.0.0,>=4.38.0 in /usr/local/lib/python3.9/dist-packages (from spacy) (4.65.0)\n",
      "Requirement already satisfied: jinja2 in /usr/local/lib/python3.9/dist-packages (from spacy) (3.1.2)\n",
      "Requirement already satisfied: smart-open<7.0.0,>=5.2.1 in /usr/local/lib/python3.9/dist-packages (from spacy) (6.3.0)\n",
      "Requirement already satisfied: typer<0.8.0,>=0.3.0 in /usr/local/lib/python3.9/dist-packages (from spacy) (0.7.0)\n",
      "Requirement already satisfied: numpy>=1.15.0 in /usr/local/lib/python3.9/dist-packages (from spacy) (1.22.4)\n",
      "Requirement already satisfied: typing-extensions>=4.2.0 in /usr/local/lib/python3.9/dist-packages (from pydantic!=1.8,!=1.8.1,<1.11.0,>=1.7.4->spacy) (4.5.0)\n",
      "Requirement already satisfied: idna<3,>=2.5 in /usr/local/lib/python3.9/dist-packages (from requests<3.0.0,>=2.13.0->spacy) (2.10)\n",
      "Requirement already satisfied: chardet<5,>=3.0.2 in /usr/local/lib/python3.9/dist-packages (from requests<3.0.0,>=2.13.0->spacy) (4.0.0)\n",
      "Requirement already satisfied: urllib3<1.27,>=1.21.1 in /usr/local/lib/python3.9/dist-packages (from requests<3.0.0,>=2.13.0->spacy) (1.26.15)\n",
      "Requirement already satisfied: certifi>=2017.4.17 in /usr/local/lib/python3.9/dist-packages (from requests<3.0.0,>=2.13.0->spacy) (2022.12.7)\n",
      "Requirement already satisfied: blis<0.8.0,>=0.7.8 in /usr/local/lib/python3.9/dist-packages (from thinc<8.2.0,>=8.1.0->spacy) (0.7.9)\n",
      "Requirement already satisfied: confection<1.0.0,>=0.0.1 in /usr/local/lib/python3.9/dist-packages (from thinc<8.2.0,>=8.1.0->spacy) (0.0.4)\n",
      "Requirement already satisfied: click<9.0.0,>=7.1.1 in /usr/local/lib/python3.9/dist-packages (from typer<0.8.0,>=0.3.0->spacy) (8.1.3)\n",
      "Requirement already satisfied: MarkupSafe>=2.0 in /usr/local/lib/python3.9/dist-packages (from jinja2->spacy) (2.1.2)\n"
     ]
    }
   ],
   "source": [
    "!pip install spacy"
   ]
  },
  {
   "cell_type": "code",
   "execution_count": 2,
   "metadata": {
    "colab": {
     "base_uri": "https://localhost:8080/"
    },
    "id": "rN5qNRXPz7rW",
    "outputId": "bcea6639-688b-4b06-b66a-72b5dad713f4"
   },
   "outputs": [
    {
     "name": "stderr",
     "output_type": "stream",
     "text": [
      "/usr/local/lib/python3.9/dist-packages/torch/cuda/__init__.py:497: UserWarning: Can't initialize NVML\n",
      "  warnings.warn(\"Can't initialize NVML\")\n"
     ]
    }
   ],
   "source": [
    "import spacy\n",
    "import random\n",
    "from spacy.tokens import Doc\n",
    "from spacy.util import minibatch, compounding\n",
    "from spacy import displacy\n",
    "from spacy.training.example import Example\n",
    "from tqdm import tqdm\n",
    "from pathlib import Path\n",
    "import numpy as np"
   ]
  },
  {
   "cell_type": "markdown",
   "metadata": {},
   "source": [
    "Note: Download 'NER.txt' file from google drive. Link:https://drive.google.com/drive/folders/1ucaAX_uKWugfeEbarVygPI0LP0OZ6iGR?usp=share_link"
   ]
  },
  {
   "cell_type": "code",
   "execution_count": 3,
   "metadata": {
    "colab": {
     "base_uri": "https://localhost:8080/"
    },
    "id": "ohNaxpHXZRge",
    "outputId": "f5762cd6-e414-4667-b85a-f441f70f6487"
   },
   "outputs": [
    {
     "name": "stdout",
     "output_type": "stream",
     "text": [
      "[['Lithium - ion battery explosions are now the third leading because of fires in the city , how much carbon and toxic materials are released with each fire . Also , electric vehicle are actually fossil fuel vehicles because only 1 - 5 % are run from environmentally irresponsible green sources . ', {'entities': []}], ['When an Electric Vehicle catches fire , it can t be put out as water or foam will cause an EXPLOSION . So what happens on the freeway when there s a pile - up if all vehicles were electric ? Many many MANY needless deaths ', {'entities': []}], ['The current Mini electric vehicle is delightful , and a recent survey found its owners more satisfied than those of any other affordable EV . But it has a short range . A new version appearing next year may fix that : ', {'entities': [[12, 16, 'company']]}], ['Vietnamese EV maker VinFast remains optimistic despite challenging entry to U.S. auto market : VinFast CEO says that there is a lot of room for players in the U.S. market as the world moves towards electric vehicles . ', {'entities': [[20, 27, 'company'], [95, 102, 'company']]}], ['Electric Eco car on fire problem burn damage hybrid ev byd etron tesla p ... via @YouTube Imagine this fire in an apartment garage . ', {'entities': [[55, 58, 'company'], [65, 70, 'company']]}], ['Great to see this moving forward ! @CanadaPostcorp introducing 14 #electric cargo vans introduced in Nanaimo , B.C. with plans to electrify 14,000 - vehicle fleet by 2040 #ZEV #EV #fleets ', {'entities': []}], ['If Tata Nano came with electric In a good price it will change the game .. Now - People perception was changed Only Tata can do this .. Once again #tatanano #electric #vehicle ', {'entities': [[3, 7, 'company'], [116, 120, 'company']]}], ['Tesla is such an awesome car company that has revolutionized the way we think of a normal dealership and how stupidly easy everything is at Tesla ! Name another company that tops Tesla , bet you can not . #Tesla #EV #ElectricVehicle #Elon #ElonMusk ', {'entities': [[0, 5, 'company'], [140, 145, 'company'], [179, 184, 'company']]}], ['Haval , the Chinese automaker , has gained popularity in recent years for producing quality cars . #ev #haval #electriccars ', {'entities': [[0, 5, 'company']]}], ['#IONIQ6 #ElectrifiedStreamliner #AwakenYourWorld #Streamliner #EV #Hyundai #IONIQ Hyundai is regrettable . Bad feelings . It is an experience that should not be lived . #IONIQ6 #ElectrifiedStreamliner #AwakenYourWorld #Streamliner #EV #Hyundai #IONIQ #Elantra ', {'entities': [[82, 89, 'company']]}], ['Do we have an electric SUV that really gets 500 miles a charge and that is affordable too ? It is a shame that all these EV coming out , and they can not get you across the state of Texas on 1 - charge and they want $ 75 K for them . You can buy a whole lot of gas for $ 75 K and keep your hog ', {'entities': []}], ['( Electric vehicle fires ) are very stubborn and very difficult to extinguish , William Boger , District 5 vice president and communications director for the Virginia Professional Fire Fighters , said . ', {'entities': [[80, 93, 'person']]}], [\"EN1 's model EVs are fueling Africa 's electric future . Be among the first to see our prototype designs ... Follow \", {'entities': [[0, 3, 'company']]}], ['One of the worst customer receiving experience I had with OLA Moosapet , Hyderabad , India . They are showing bikes based on persons ( cust ) appearance . If Ola wants to give preference for appearance buying car then please close the Moosapet outlet . #olaelectric #ola #trending2023 #ev ', {'entities': [[58, 61, 'company'], [158, 161, 'company']]}], [\"I love the sound that EV 's make When driving Nissan LEAF it was like electric jingle bells when accelerating or regenerative braking Its harmonics in the Electric Motor , not very loud , you have to have sensitive hearing or no hearing damage to hear these subtle EV motor sounds \", {'entities': [[46, 52, 'company']]}], ['Ford recalls 18 F-150 Lightnings for battery fire concern #electricvehicle #cars #ev #technology #sustainability #automotive #gogreen #electric #battery #electriccar ', {'entities': [[0, 4, 'company']]}], [\"Disappointed with OlaElectric 's #OlaS1 scooter . Despite the hype , the scooter falls short on several fronts , including subpar build quality and unimpressive range . Not worth the hefty price tag Ola needs to up its game and deliver on its promises to win over customers . #EV #fail \", {'entities': [[18, 29, 'company'], [199, 202, 'company']]}], ['Epic failure by Toyota with their first electric car . Bad efficiency , worse charging . Over 14 hours to go 1000 km compared to under 10 for best in class . They have got some catching up to do . ', {'entities': [[16, 22, 'company']]}], ['Electric Jesus what I call Elon Musk for his associations with Tesla Automotive in California :) S3 X Y models that prove EV can be luxury & performance with Plaid models showing other automakers how its done & leading bleeding edge AI autonomy development chips & OTA upgrading ', {'entities': [[27, 36, 'person'], [63, 79, 'company']]}], ['Battery electric vehicle are not ready for everyone They do not have the pure fast power of gasoline or diesel fueled ICE vehicles They are still a luxury product for a minority of people , like cars themselves worldwide BEV lithium ion was only the first good battery tech ', {'entities': []}], ['Dear @GavinNewsom , with the 13 deaths of people in Southern CA , who died in their homes from the storm and freezing to death from no electricity , how would you expect them to be able to charge an electric vehicle , to flee to safety , if they were required to have an EV ? ', {'entities': []}], ['Seems a bit disingenuous of #politicsWest to say that charging an EV at home costs 34p / kWh . Just like if you had electric heating , if you had an EV + charger you would be mad not to take advantage of tariffs with cheap ( e.g. overnight ) electricity ', {'entities': []}], [\"Drivers wanting to make the switch to electric cars ( EV 's ) are seeing lead times decline in recent weeks .. however it is likely as a result of a FALL in demand for EVs . via @ThisIsMoney \", {'entities': []}], ['You are aware that all electric vehicle do is shift emissions somewhere else , wherever the electricity to charge them is generated . Your daily reminder that man - made climate change is the biggest scam ever foisted on a gullible populace since organized religion . ', {'entities': []}], [\"Perfect ' electric vehicle wins 2023 Car of the Year - Kia , Range Rover , MG and more \", {'entities': [[55, 58, 'company'], [75, 77, 'company']]}], ['Love how Helen wisely stated that the electric charging station will bring more traffic . What , more than the single electric vehicle currently in Ambridge , you mean ? Or , maybe just Adil will use it and the retail units . Yep . That could work . #TheArchers ', {'entities': [[9, 21, 'person']]}], ['Worst cities and states to publicly charge your electric vehicle in America including Tesla - killing networks | Motors News | Sun | 12 Mar | 12:17 | UTC ', {'entities': [[86, 91, 'company']]}], ['$ F Ford Motor Co. The automaker is revving up with 76.8 M shares traded . Its electric vehicles and trucks are in high demand and well - reviewed . #F #Ford #EV ', {'entities': [[4, 18, 'company']]}], ['Since cold weather drains battery life , is not it kind of unhelpful to buy an electric vehicle in Chicago ? ', {'entities': []}], ['Why I regret buying a @Ford F150 Lightning ! ( EV Electric Truck ) ', {'entities': []}], ['Ford says it is on track to resume production of F-150 Lightning vehicles on Monday after the # 2 US automaker recalled 18 electric trucks due to a battery cell manufacturing defect . #Ford #F150Lightning #EVBattery #Issues #EV @FordMiddleEast ', {'entities': [[0, 4, 'company']]}], ['Exploring the future of mobility with @atherenergy We had an amazing time visiting their showroom , meeting the executives , and test driving their innovative electric vehicle . Stay tuned for some electrifying content coming your way soon ! ? ? ? ? #atherenergy #evindia @tarunsmehta ', {'entities': []}], ['Please stop turning classic cars into EVs . Absolutely heinous activity . Here is an idea , make a lightweight EV sports car from the ground up , like a Caterham , not yet another battery behemoth that weighs 3 tons ? ? #ElectricVehicle ', {'entities': [[153, 161, 'company']]}], ['Greenies seem so upset with Nuclear Power and disposal of waste yet promote Electric Vehicles and Batteries that do more harm to the Earth than anything else ... WHERE WILL YOU DUMP THE EXHAUSTED EV BATTERIES EH ? Not in my back yard they say ', {'entities': []}], [\"This is Stockholm 's new ' flying ' electric ferry . Very efficient in its use of energy . ( World Economic Forum ) #EV #Transportation #FutureOfTransportation @wef \", {'entities': []}], ['( Electric vehicle fires ) are very stubborn and very difficult to extinguish , William Boger , District 5 vice president and communications director for the Virginia Professional Fire Fighters , said . ', {'entities': [[80, 93, 'person']]}], ['Tesla and #ElonMusk Are Having a Bad Month After an impressive start to the year , the electric - vehicle manufacturer is having a difficult March . #EV ', {'entities': [[0, 5, 'company']]}], ['From their cutting - edge technology to their sleek designs , it is no wonder why @Tesla continues to lead the way in the electric vehicle industry . With their commitment to sustainability and innovation , they are not just changing the game - they are revolutionizing it . #ElectricVeh ', {'entities': []}], [\"Tesla 's two senior models have received a lighter glass roof , a richer red finish , and a good old - fashioned steering wheel . #News #SWMFeed #Tesla #Electric #ElectricCar #ElectricVehicle #EV #ModelS #ModelX #NewModels #Pricing \", {'entities': [[0, 5, 'company']]}], ['As trucks and SUVs become electrified , they are also gaining weight , which could lead to more deaths and injuries on the road , safety experts warn ', {'entities': []}], ['Do you truly know how horrible cobalt mining in the Congo is ? Its being done with slave labor . The battery of your electric car needs about 12 kilos of cobalt to run . Remember #blooddiamonds from the Congo ? Your ev car is made from #bloodminerals which is even worse @kevinbacon ', {'entities': []}], ['If you are searching for a smart vehicle that is affordable , environment friendly and pollution - free ; then your search ends here . Switch to E - Went Electric Scooter . #RideWithPride #ewent #pollutionfree #happy2023 #marketingtrend #greenerindia #smartmove ', {'entities': []}], ['Microsoft co - founder Bill Gates on his recent trip to India rode a Mahindra electric three - wheeler and was quite impressed by it . Gates shared a video riding the Mahindra Treo on Instagram and Mahindra Group chairperson Anand Mahindra also reacted to it . ', {'entities': [[0, 12, 'company'], [23, 33, 'person'], [69, 77, 'company'], [135, 140, 'person'], [167, 175, 'company'], [198, 212, 'company'], [225, 239, 'person']]}], ['Wow , this is one of the most hopeful EV transition video I think I have seen This GIANT Electric Semi Can Swap Out Its Batteries ! good work @FullyChargedShw ', {'entities': []}], [\"By Norihiko Shirouzu , Maki Shiraki and David Dolan TOKYO ( Reuters ) - Nissan Motor Co 's new Ariya electric vehicle has been hampered by problems at its high - tech production line , four people familiar with the matter said , slowing delivery of a car designed \", {'entities': [[3, 20, 'person'], [23, 35, 'person'], [40, 51, 'person'], [72, 87, 'company']]}], ['VinFast hits another hurdle in its US electric vehicle expansion , delays EV plant until 2025 : EV maker VinFast is facing another setback in its US electric vehicle expansion . The Vietnamese EV maker announced Friday it will postpone #technews #ev #tesla ', {'entities': [[0, 7, 'company'], [105, 112, 'company']]}], ['Is it ironic that the majority of the DRC ( who uses child labor to mine cobalt for ELECTRIC VEHICLE batteries ) does not have electricity ? ', {'entities': []}], [\"Mitsubishi will be a ' mainly BEV ' brand by 2035 with 4 EVs , including an electric pickup : Mitsubishi is the latest Japanese automaker to accelerate its electrification strategy as demand for electric vehicles continues climbing at a #technews #ev #tesla \", {'entities': [[0, 10, 'company'], [94, 104, 'company']]}], ['Ford reveals an electric school bus based on the E&Transit cargo van : Ford is building electric school buses ; you heard that right . The automaker is offering a Type A electric school bus package based on its top - selling E - Transit #technews #ev #tesla ', {'entities': [[0, 4, 'company'], [71, 75, 'company']]}], ['The Internet of Things ( IoT ) has revolutionized the way we live and work , and now it is making a significant impact on the automotive industry , particularly in the electric vehicle ( EV ) space . #ev #electricvehicle #electriccar #electricbike #battery #ElectricVehicles #India ', {'entities': []}], [\"VinFast 's bold ambitions to sell electric cars to consumers in the US have suffered another setback with production at its as - yet - unbuilt facility in North Carolina now not expected to start until 2025 \", {'entities': [[0, 7, 'company']]}], ['Now , Norway leads the world in electric vehicles sales . It is also looking set to reach its target of banning the sales of fossil fuel cars by 2025 . This is at least five years earlier than most countries around the world . #ElectricVehicles #Tesla #car #ev #California ', {'entities': []}], ['Lion Electric sues Nikola Motors over battery pack agreement , stealing customers : Lion Electric ( LEV ) filed a civil lawsuit against EV maker Nikola Motors ( NKLA ) in the US District Court for Arizona on March 2 . The filing alleges #technews #ev #tesla ', {'entities': [[0, 13, 'company'], [19, 32, 'company'], [84, 97, 'company'], [145, 158, 'company']]}], ['This Electric Vehicle Owner Loves His Car Nothing fancy , just the facts . ', {'entities': []}], ['European officials have been furious with electric vehicle tax credit provision in Inflation Reduction Act , and it is expected to be a key point of discussion with Biden today , per @Kevinliptakcnn ', {'entities': [[165, 170, 'person']]}], ['It would definitely be Cruising down the coast in the All Electric Mustang . Very nice looking vehicle ', {'entities': []}], ['SONDORS says it sold 1,000 electric motorcycles in a week after huge price drop : Electric bike and e - motorcycle company SONDORS appears to be riding a new wave of orders for its SONDORS Metacycle electric motorcycle . more The post #technews #ev #tesla ', {'entities': [[0, 7, 'company'], [123, 130, 'company'], [181, 188, 'company']]}], [\"EV ROULETTE : Customers fed up with years - long waits are putting deposits on multiple electric vehicles and planning to take whatever is delivered first ' I am just going to cancel my Rivian order . ' $ RIVN @NoraNaughton @alexa_stjohn via @businessinsider \", {'entities': [[186, 192, 'company']]}], ['Nice to spend some time with @K12Beano today talking all things EV , podcasting , and long electric journeys . ', {'entities': []}], ['XPeng P7i Arrives Stunning Electric Car For Low Price #Tesla #EV #ClimateChange #Renewables #RenewableEnergy ', {'entities': [[0, 5, 'company']]}], ['Hyundai says the new Kona electric will overtake gas , hybrid variants in sales : After releasing its next - generation Kona electric model Tuesday , Hyundai has high expectations for the updated urban SUV . The South Korean automaker #technews #ev #tesla ', {'entities': [[0, 7, 'company'], [150, 157, 'company'], [218, 224, 'norp']]}], ['Great to see ! If you have time , pop by #FullyChargedLIVEAustralia afterward ! Just down the road in Darling Harbour - thousands of Australians enjoying the opportunity to participate in an electric vehicle and household expo ! ', {'entities': [[102, 117, 'loc']]}], ['Oh hell : Fires started by lithium - ion batteries in Teslas , e - bikes , and scooters continue to make national news , prompting consumers to wonder if electric propulsion is unsafe ', {'entities': [[54, 60, 'product']]}], ['A poll conducted by @AutoTrader_UK finds 32 % of people never want to buy an electric vehicle . Be interested to see what people think ? I am definitely not in a rush to buy one . ', {'entities': []}], [\"Lamborghini Urus is going to be a fully electric SUV by the end of the decade : Lamborghini 's best - selling Urus Super SUV is going fully electric . The high - performance sports brand CEO Stephan Winkelmann confirmed that an electric #technews #ev #tesla \", {'entities': [[0, 11, 'company'], [80, 91, 'company'], [191, 209, 'person']]}], ['one can have the greenest most electric vehicle for public transport to prop up the netzero esg sdg narrative ... but if its not efficient in serving the commuters it is still bullshit . ', {'entities': []}], ['This #EV owner loves his Chevy Bolt for many reasons ! #txenergy #txlege ', {'entities': [[25, 30, 'company']]}], ['$ TSLA : This Tesla driver was forced to kick his window out to escape death , after the electric vehicle bursted into flames and locked him into the car . #tesla #stocks #electricvehicles #SuperMarioMovie #Artificial_Intelligence #Scream6 #TrendingNews #Ai ', {'entities': [[14, 19, 'company']]}], ['How can we persuade friends and family to go electric on the road and at home ? The experience of driving an EV sells itself ! @eveecars also provides a personalised experience between the car owner and car borrower . #FullyChargedLIVEAustralia ', {'entities': []}], [\"#Variety : Nissan Motor Co 's ( 7201 . T ) new Ariya electric vehicle has been hampered by problems at its high - tech #productionline , four people familiar with the matter said , slowing delivery of a car designed to put the automaker on the road to a comeback . \", {'entities': [[11, 26, 'company']]}], ['A third of Britons will refuse to go electric : Auto Trader poll finds one in three plans to stick with petrol ', {'entities': [[48, 59, 'company']]}], ['The ongoing pattern of ignoring electric vehicle driving information is a deliberate choice to delay #EV adoption by the United States Federal Government and a policy failure @JoeBiden @PeteButtigieg @ENERGY ', {'entities': []}], ['Rivian has been making a name for itself with its upscale electric trucks and SUVs . Watch the video to learn how a partnership with Amazon is giving Rivian an edge in the EV industry . ', {'entities': [[0, 6, 'company'], [133, 139, 'company'], [150, 156, 'company']]}], ['After selling 61,575 EVs last year , Ford became the second - largest electric vehicle maker in the US , behind Tesla . @ElectrekCo ', {'entities': [[37, 41, 'company'], [112, 117, 'company']]}], ['I will never get an electric vehicle #Tucker ', {'entities': []}], [\"So far , GM 's progress has not gone smoothly we dubbed its luxury electric truck a bummer EV , production has been slow , and there is a Hummer EV sales freeze after reports of water found seeping into its Honda Civic - like battery . #ouch via @Verge \", {'entities': [[9, 11, 'company'], [138, 144, 'company'], [207, 212, 'company']]}], ['It looks like the Plaid level of the Model S and X will be getting a pair of welcomed upgrades and a real steering wheel along with the new color . ', {'entities': []}], ['Exciting news for the electric vehicle industry ! @Tesla has opened up its fast chargers to non - Tesla vehicles in a 17 - country pilot , easing range anxiety for drivers . The move represents about 20 % of its existing Supercharger network . #EV #renewables ', {'entities': [[98, 103, 'company']]}], [\"Totally brilliant BMW i3 Range Extender . Key 's wrenched from my hands , and available now @IngramCars via @YouTube #bmwi3 #bmw #ElectricCars #ev #hybrid #cars #TheBest #Premium #electricvehicle \", {'entities': [[18, 21, 'company']]}], ['Nice - Electric vehicle sales are on the rise across the globe #Sustainability ', {'entities': []}], ['An electric vehicle show in Sydney is expected to attract thousands of enthusiasts and potential buyers , and put many behind the wheel . ', {'entities': []}], [\"Australia 's first National Electric Vehicle Strategy will be released later this year . A great opportunity to slash #Greenhouse gas emissions from #transport . We hope it includes incentives for e - bikes , electrifying public transport . #FullyChargedLIVE \", {'entities': []}], [\"Irresponsible people should not be allowed to drive Tesla 's . If you can manage your time , you cell phone is always dead or missing , you think you can manage an electric vehicle ? \", {'entities': [[52, 57, 'company']]}], ['Maserati is the latest high - end sports car brand to join the EV club . ', {'entities': [[0, 8, 'company']]}], ['Very cool : iconic brand Mack Trucks announces the first all - electric medium - duty vehicle . ', {'entities': [[25, 36, 'company']]}], ['Tesla is developing a new electric vehicle that is expected to be significantly more affordable than their current offerings . According to CEO Elon Musk , the new EV will cost about half as much to manufacture as the Model 3 . Musk also revealed that th ', {'entities': [[0, 5, 'company'], [144, 153, 'person'], [228, 232, 'person']]}], [\"Mack 's Electric Truck Could Be a Fleet Game - Changer \", {'entities': [[0, 4, 'company']]}], ['Beyond reducing climate emissions and bringing in more EVs at lower prices , a strong federal EV sales standard would bring big health benefits by reducing air pollution . #EV #cdnpoli ', {'entities': []}], ['I know I am an #electricvehicle stan , but super impressed with the @VW Love seeing more models at different price points in the EV space #SXSW ', {'entities': []}], ['Cars like the Hummer EV represent the worst possible future for electrification dangerously powerful trucks driven by people who can not see what is in front of them , barreling through areas not designed for vehicles of this size ', {'entities': [[14, 20, 'company']]}], [\"Oklahoma SB 502 has passed the Senate and is headed to the House ! This bill will ensure fair competition in Oklahoma 's EV charging market . This will lead to a better recharging market for EV drivers and ensure all ratepayers do not see higher electric bills . \", {'entities': []}], [\"Scranton 's new vehicle fleet will live up to the Electric City moniker . \", {'entities': []}], [\"Ford 's new EV tech can make electric burnout possible ! Here is how drivers can benefit from it , especially fans of drifting . \", {'entities': [[0, 4, 'company']]}], ['It was great speaking with @SCOOTERDOLL at @ElectrekCo . Read the full feature below ? ? #Lightship #ElectricVehicle #EV #Travel ', {'entities': [[43, 54, 'company']]}], ['Bad news if you are a Tesla Inc. shareholder : The electric - vehicle maker continues to slash prices to entice people to buy . ', {'entities': [[22, 32, 'company']]}], [\"The 2023 Ford E - Transit Cargo Van is perfect for transporting your company 's precious cargo , while being ALL ELECTRIC ! ? ? ? ? ? ? Stock : 930220 #ev #etransit #transit #transitvan #transitcustom #electrictransit #ford #builtfordtough #ford \", {'entities': [[9, 13, 'company']]}], [\"The best way to combat Big Oil 's Gas Prices is to stop buying gas . Electric Vehicles are Available , Affordable & Amazing . EV buyers can still get a good price for their used gas engine vehicles . \", {'entities': []}], ['Now here we go ! A Better Electric Vehicle Charging Solution to fit your ev specifications ! Connect with contentment ! @ideanomicshq ( IDEX ) ? ? ', {'entities': []}], ['Lucid Gravity : A Luxury Electric SUV with Breathtaking Performance and Seating for Up to Seven #electriccar #crossover #SUV #EV ', {'entities': [[0, 5, 'company']]}], [\"Volvo 's EX90 Electric SUV Has the Most Complex Headlights Ever - By the power of Azgard . Gif : Owen BellwoodIf you are building a new flagship electric vehicle , there are a few essentials your car needs . First , there is the minimalist interior , then there is the advanced driver - as ... \", {'entities': [[0, 5, 'company'], [97, 112, 'person']]}], ['And the truth is the electrical grid can not support a massive influx of electrical cars . Not only that , they are actually more harmful to the environment to create and require more mining and more child labor than a regular gas powered vehicle . #ClimateCrisis #ClimateScam ', {'entities': []}], ['Deeply concerning from Lord Frost . No particular reason given for his dislike of renewables or heat pumps or electric vehicles . Just fear of change . And a desire to refight battles long since lost - not to the green blob , but to economics . ', {'entities': [[28, 33, 'person']]}], ['When asking nearly 100k for a Tesla S or X you would expect better quality control , not sure if this is effecting the brand . Might check out the Mustang E as rumour has it range is bang on what I d like and require for work . #CantPleaseEveryone #EVHate ', {'entities': [[30, 35, 'company'], [147, 154, 'company']]}], ['You are Being Lied to About Electric Cars TL;DR - EVs are better than gas cars for the planet . #ev #ElectricVehicles ', {'entities': []}], ['WELL , DO YOU WANT TO GIVE ME A COUPON TO BUY AN ELECTRIC AT HALF PRICE ? ? THERE IS NO WAY I CAN AFFORD ANY OF THOSE ! ! Biden and EU leader to try to resolve spat over electric vehicle tax credits via @CBSPolitics ', {'entities': [[122, 127, 'person']]}], [\"We should all be very scared of how shitty our country 's infrastructure is . Definitely will not catch me getting a fully electric vehicle \", {'entities': []}], ['As bigger trucks and SUVs become electric , they will gain weight , which some safety experts say could lead to more deaths and injuries on the road . ', {'entities': []}], ['Electric vehicles offer health , environmental , and financial benefits Our expert takes a look at the steps which need to be taken to make electric vehicle adoption a more attainable reality for all . ', {'entities': []}], ['MORONS ... how can you do a survey on EV truck preference when 90 % of the people in the survey said they would never buy an electric truck ? ? STUPID WASTE OF TIME ', {'entities': []}], ['Electric vehicles were never a solution but a bigger environmental problem given the number of heavy metals and mines required to fulfill the requirements needed to replace carbon fuels . Carbon adds to the carbon cycle , heavy metals poison land and water . I will stick with petrol . ', {'entities': []}], [\"? ? ? ? ? ? ? ? Looking forward to discussing EV charging with @SiemensInfra 's #eMobility CEO Markus Mildner at @Eurelectric 's unique #EVision event in Brussels ! #SiemensInfluencer \", {'entities': [[95, 109, 'person']]}], ['Almost got clobbered walking the dog in the snow , when a silent electric vehicle went through a stop sign . Did not hear it coming at all ... which is going to be a growing problem . Maybe electric vehicles should come with awesome bass . ', {'entities': []}], ['Simple cooked ham at my store was $ 6.99 last year and is up to $ 9.02 today . I do not need or want an electric vehicle . I just want to be able to feed my family . These idjots in Washington can afford whatever they want . STOP THE INSANITY ! ! This is BS ! ! ', {'entities': []}], ['Head of ADMEC , Prof Daizhong Su : This is an exciting project which has the potential to make the electric vehicle industry even more sustainable and help prevent up to nine million tons of battery waste per year going to landfill by 2040 . ', {'entities': [[8, 13, 'company'], [16, 32, 'person']]}], ['I could never drive an electric vehicle knowing little congo kids are being slaughtered breaking their bodies in efforts to mine cobalt and lith JUST to feed their families JUST so I can drive in comfort ? elons youthful and funny n all but he s no different than jeff bill n steve ', {'entities': [[264, 273, 'person'], [276, 281, 'person']]}], ['Wow I am dealing with Rivian for the first time today , and they are actually worse than Tesla ? ? ? What is it with electric vehicle companies having the worst , most complicated customer service known to man or beast ? ? ? ? Dealerships ALWAYS suck , but these are on a whole other level ! ! ! ', {'entities': [[22, 28, 'company'], [89, 94, 'company']]}], [\"Keating Toyota just received HOUSTON 'S VERY FIRST Toyota BZ4X ALL- ELECTRIC VEHICLE ! ! ! ! ? ? ? ? ? ? #keatingtoyota is the only place you can find this vehicle and it will not last long ! Contact David Jackson to set up your test - drive TODAY ! ! ! ? ? ( 346 ) 284 - 8250 #HablamosEspaold #fyp \", {'entities': [[8, 14, 'company'], [51, 57, 'company'], [200, 213, 'person']]}], ['? ? The government should adopt the conservative environmental approach and equalise VAT on charge points so the UK can fully recognise the benefits that switching to electric vehicles can bring , writes Megan Batchelor for the CEN blog . ? ? ? ? ', {'entities': [[204, 219, 'person']]}], ['#news Auto Executives are Less Confident in Electric Vehicle Adoption ', {'entities': []}], ['This vehicle is one of those vehicles that turns people off from going electric ? ? Straight shooter @JoshWest247 YT short #ev #short #Toyota #SUBARU ', {'entities': []}], ['I would purchase hydrogen power auto before EV . ', {'entities': []}], ['Hey @RJScaringe @Rivian @RivianOwners @TataMotors is wanting to build a battery plant in the UK to transition @LandRover to an all EV brand . A great potential JV or acquisition opportunity for you guys . ', {'entities': []}], [\"Ask why the car companies and the lunatic left is all in on electric vehicles ? It is all nonsensical and counterintuitive to what they say about saving the planet . How are the batteries manufactured ? What charges these batteries ? EV 's are more detrimental . #EVfalsehoods \", {'entities': []}], ['Egg have kicked off their EV series and it is looking to be a cracker ! Is the Kia Niro the electric car for you ? ? ? @cracking_energy #EV #EVRevolution ', {'entities': [[0, 3, 'company'], [79, 82, 'company']]}], ['I am strongly #debating bringing my #cat with me for a #day #RoadTrip in the #rental I got ... I will wait to see what kind of #vehicle I end up getting due to slim pickings . I really do not want a #gas #guzzler , and we regrettably do not have #hybrid or #ElectricVehicle #options . ', {'entities': []}], [\"Is #RangeAnxiety really a thing ? #ElectricVehicle average range has nearly tripled in a decade , and is far above the average driver 's daily usage . Read more about these changes with @_HannahRitchie . #uYilo #EV #ElectricCar #eMobility #EVRange \", {'entities': []}], ['These Are the Cars That Will Convince You to Switch to EVs - Photo : NissanThe more I have been thinking and discussing , there really is not any type of car that needs to go electric to convince me to buy electric . Generally speaking , by making a particular make / model into an EV v ... ', {'entities': []}], ['This Electric Vehicle farce will end up screwing us in the long run ', {'entities': []}], ['The electric vehicle market has soared in the past few years , and that pace is not expected to slow down anytime soon , ac ', {'entities': []}], ['A perfect day to get out on the water in an #Electric fast ferry by @nrma after seeing @FullyChargedShw live in Sydney this #weekend ! ', {'entities': []}], ['So for me what I find is it is actually cheaper for me ... to buy an electric car that might be a bit more expensive upfront , but it is going to save me like over the years right ? ', {'entities': []}], ['Hyundai Motor Company has officially introduced the all - new Kona , an upgraded contender in the B - SUV segment , led by an all - electric variant ( EV ) with a class - leading range and cutting - edge safety and convenience features . ', {'entities': [[0, 21, 'company']]}], ['Japanese carmaker Mitsubishi Motors Corp plans to electrify 100 % of its fleet by 2035 through active introduction of hybrid and electric vehicles ( EV ) , the Yomiuri Shimbun daily said ', {'entities': [[18, 40, 'company']]}], ['Cruise around town in style while reducing your carbon footprint with Scoo EV , the leading brand in electric scooters ? ? ? ? #scooevrentals #scooevrider #electricvehiclerental ', {'entities': []}], ['I was not looking for driving excitement , I was looking for practicality , but it is responsive , it is quick and it handles very well . You can point it and accelerate into any little gap that opens up in traffic on the road . ', {'entities': []}], ['It is being claimed that the sensors can be used in autonomous vehicles ( AVs ) to deliver safe driving whatever the weather . Source IoT World Today #autonomousvehicles #avs #iottechnology #iotsensors #radarsensor #constructionindustry #miningindustry ', {'entities': []}], ['Discover the freedom of electric scooter rentals with Scoo EV - convenient , eco - friendly , and affordable Daily commute ? ? ? ? #scooevrentals #scooevrider ', {'entities': []}], ['Ford has emerged as a prominent player in the electric vehicle ( EV ) market , with a range of benefits that make its EVs an attractive option for environmentally conscious drivers . #ev #ford ', {'entities': [[0, 4, 'company']]}], ['Respekt ! Maserati Oh yes , the 2024 Maserati GranTurismo Folgore is one hell of an electric car . Actually , it is a helluva car , full stop ', {'entities': [[10, 18, 'company'], [37, 45, 'company']]}], ['Lightship L1 , the electric trailer that improves autonomy #price #vehicle #design #production #electricvehicles #battery ', {'entities': [[0, 9, 'company']]}], ['It is a clear Design fault from OLA , In our smaller group in 5 days found more than 5 stand broken and after telling rest of them found most of them have their bolt loose and will break soon . OLA refusing to replace for free so the we needs to pay for that . @OlaElectric @EV ', {'entities': [[32, 35, 'company'], [194, 197, 'company']]}], ['According to latest development , the tech giant could send the #Modena , codenamed MS11 , to production as soon as this year . It will rival the likes of Tesla Model S in Chinese EV segment . ', {'entities': [[155, 160, 'company']]}], ['Now there is a lot of need for upgrade in electric vehicle . ', {'entities': []}], ['Some Tesla owners have voiced frustration about the electric vehicles , including a group in Norway that went on a hunger strike last month . ', {'entities': [[5, 10, 'company']]}], ['Not true . The electric whine sounds from the motor ( s ) , metal scraping on asphalt , & sci - fi PWS sounds will all make EV chase scenes sound far better than a gas motor . ', {'entities': []}], ['Powerfully beautiful , from every angle . #NissanARIYA #ev #electricvehicle #sanlenadronissan #redwoodcitynissan #carnamic ', {'entities': []}], ['The current infrastructure for electric charging stations is struggling to keep up with demand . Enter c + charge , a revolutionary new blockchain platform that aims to streamline and incentivize ev charging by becoming the industry standard fo ', {'entities': []}], [\"Electrification remains one of the hottest topics of CONEXPO 2023 , and CASE is bringing one of the show 's largest , strongest and most comprehensive electric fleets with new introductions . See them for the first time at #Electrification #ElectricVehicles \", {'entities': [[72, 76, 'company']]}], ['The Times admits its role in conning the British public into falling for the EV scam . Nothing said about the overall global environmental impact of these expensive white elephants . Electric cars with fully charged battery lose up to third of range in cold ', {'entities': []}], ['Electric cars are the vehicle of Satan , Bill . ', {'entities': [[41, 45, 'person']]}], [\"I am Done with Electric Cars ! Biden 's EV Mandates Will DESTROY Everything . \", {'entities': [[31, 36, 'person']]}], ['Back last summer of 2022 you were talking shit about Elon Musk and Tesla and electric vehicles , and the Green movement now he is your number one propaganda man , and you are best his mid siphon he can do know wrong what a hypocrite ! ', {'entities': [[53, 62, 'person'], [67, 72, 'company']]}], ['An EV in Every Driveway Is an Environmental Disaster by @awalkerinLA ', {'entities': []}], ['#EVs have a big problem : They are not accessible for wheelchair users . From design to price , here is a look at this EV stumbling block . ', {'entities': []}], ['The Kia EV6 GT is an electric vehicle that is quick , thrilling , and ready to go toe - to - toe with the Tesla Model Y . Read the full test review here ? ? ', {'entities': [[4, 7, 'company'], [106, 111, 'company']]}], ['Real Headline : Two thirds of Britons are fine to switch to EV . #BEV #EVLife ', {'entities': []}], ['Volvo has become a leading manufacturer of electric cars , with a range of models that combine sustainability , safety , performance , design , and convenience . ', {'entities': [[0, 5, 'company']]}], ['The Kia EV9 . Another bold step towards sustainable mobility . It was created to pave a new path for future electric SUVs . Full design unveil coming soon , stay tuned . Contact Lookers Kia to register your interest - #EV9 #TheKiaEV9 #EV ', {'entities': [[4, 7, 'company'], [186, 189, 'company']]}], ['The future of transportation is electric . With advancements in battery technology , EVs are becoming more efficient , affordable & practical . #ElectricVehicles #SustainableTransportation #CleanEnergy #NetZero ', {'entities': []}], ['That @VIAMotorsInc skateboard is even more impressive in person . The Class 2B Proxima is #ABetterEV built by VIA & EAVX . #WorkTruckWeek #LiveElectric @BobPurcellassoc ', {'entities': [[110, 113, 'company'], [116, 120, 'company']]}], ['Thank God I have an electric vehicle ', {'entities': []}], ['The climate whackos are not saving the environment with their solar panels and electric vehicles , they are damaging the environment . If we want a glimpse into the future with electric vehicles , we need only look at the current disaster caused by solar panels . They are toxic . ', {'entities': []}], ['ELECTRIC VEHICLES : A MONUMENTAL , CATACLYSMIC , STRATOSPHERIC DISASTER WAITING TO HAPPEN BECAUSE : EVs HAVE NO REAL RANGE YOU HAVE TO CHARGE THEM ON YOUR JOURNEY THERE ARE NOT ENOUGH CHARGING STATIONS NOW , LET ALONE IN THE FUTURE & THEY ARE NOT GREEN IN ANY WAY , SHAPE OR FORM ! ', {'entities': []}], [\"I hate Tesla 's \", {'entities': [[7, 12, 'company']]}], ['It s official : @VWGroup has chosen Canada as the site of their first - ever overseas battery cell factory good news for our workers , our environment , and our economy . We ll keep working to attract investments like this as we grow our electric vehicle supply chain . ', {'entities': []}], ['Electric Car News : Caravan parks can not cope with rising numbers of electric cars #News ', {'entities': []}], ['Hey #Libs - start counting true cost of #Netzero and #EV wet dream . Very damaging to #PlanetEarth and humans ', {'entities': []}], ['I seriously love the #LucidAir , and it remains arguably my favorite electric vehicle to date . via @Jalopnik $ LCID ', {'entities': []}], ['This is the hottest electric SUV on the market in China right now . IM Motors LS7 it s literally like driving a spaceship and the level of comfort is crazy . #IMMotors #SAIC #Alibaba #ElectricVehicle ', {'entities': [[68, 77, 'company']]}], ['I reaaallly want to make the switch to an electric vehicle . Problem is cost and most are family sized vehicles . The newer model BMW i3 has been catching my interest lately though .. ', {'entities': [[130, 133, 'company']]}], ['Thank - you Prime Minister @JustinTrudeau for your hard work and business strategy to make #CanadaGreat by making @VW part of our future in green energy . Something conservatives are against . #Battery #Jobs #Canada #ElectricVehicle ', {'entities': []}], ['Electric cars and apps . One thing I detest is uk public chargers needed their own app I Am Going To they all just need contactless payment and that s it ! If you need invoices and receipts that s fine but it shouldn t be necessary . It s just over complicated for new owners . #evs ', {'entities': []}], ['#Cobalt used in #EVs and key to energy transition . DR Congo ~75 % cobalt global supply . Significant portion of production is from small , dangerous mines controlled by militias and worked by children . Why is western enviro policy ruining the planet and abusing children ? ', {'entities': []}], ['Electric vehicle tech has not matured yet . Less range , time to refuel , electric grid not prepared , cost to replace battery packs ... I do not dislike EVs , they just do not do what I need . ', {'entities': []}], ['Good ! Looking forward ... @VW Volkswagen is about to do what Tesla didn t during its recent investor day : show off an affordable electric vehicle for the masses . A battery - powered successor to the Beetle and Golf Surprised Tesla has still not entered this space @elonmusk ', {'entities': [[31, 41, 'company'], [62, 67, 'company'], [228, 233, 'company']]}], ['Rivian R1 T was the most satisfied #electricvehicle in the J.D. Power 2023 U.S ', {'entities': [[0, 6, 'company']]}], ['Politicians always take pictures with the sexy ( expensive ) electric vehicles ( Mustang , Hummer , F150 ) and never the aesthetically repulsive ones like the Chevy Bolt and Nissan Lead . Wonder why ... ', {'entities': [[91, 97, 'company'], [159, 164, 'company'], [174, 180, 'company']]}], ['Nissan Struggling To Match Ariya Production Expectations ', {'entities': [[0, 6, 'company']]}], ['It was confirmed that the driver of a Tesla , who was killed when the vehicle crashed into a firetruck , was using the automated driving feature . #ElectricVehicles #ElectricVehicle #firefighters #firefighters #firenews ', {'entities': [[38, 43, 'company']]}], ['Ohio electric truck maker Lordstown ( $ RIDE ) paused production of its Endurance truck to fix quality issues the EV maker is fast running out of cash , but if it could solve these teething problems , stock could take off . Or it could become an acquisition target . ', {'entities': [[26, 35, 'company']]}], ['How Ola wilfully endangered its riders . Check out the insightful investigation article reported by @Alisha2494 on @livemint about the OLA Electric fork arm design issues and the responses . #OLAElectric #ElectricVehicles #India ', {'entities': [[4, 7, 'company'], [135, 147, 'company']]}], ['Apparently you can not go far in an #EV ? I think this range map in our #HyundaiKona says it all really does not it . Come on #EV haters you say #EVs do not go far ? This would cost me about 5 in electric from home . The future is 100 % #ElectricVehicles for road transportation . ', {'entities': []}], ['The @SaskParty government has not been helping EV adoption in the province @saskevca @pluginsask #ElectricVehicles #Saskatchewan #skpoli ', {'entities': []}], ['Future electric vehicle owners remember when you bitched about spending $ 350 on a battery in that old gas guzzler ? Where are you going to get the $ 3500 ( super low figure ) for the battery in your electric vehicle ? ? ', {'entities': []}], ['Dear @GavinNewsom , with the 13 deaths of people in Southern CA , who died in their homes from the storm and freezing to death from no electricity , how would you expect them to be able to charge an electric vehicle , to flee to safety , if they were required to have an EV ? ', {'entities': []}], [\"If you believe in any of these .. ? ? Mandatory Vaccinations ? ? Fighting Wars ? ? MSM News ? ? Open Borders ? ? EV 's & Electric ONLY ? ? Unlimited Spending ? ? Gender Changing Children ? ? Legalizing Pedo 's ? ? Defunding Police Maybe you are fucked up ! ? ? \", {'entities': []}], ['The single thing I like most about driving a Tesla ( not mine ) is the silence . Just staying quiet for a while . No noise , no distraction . Driving with nothing but my own thoughts . #tesla #silence #ev #future ', {'entities': [[45, 50, 'company']]}], ['Hey @ScottMorrisonMP @LiberalAus Was it really worth selling your souls to fossil fuel companies ? You know , you probably could have saved car manufacturing in Australia by doing an EV manufacturing deal in Australia , as well as incentivise nation to take up #EV #auspol ', {'entities': []}], ['Sooner or later the public will figure out that dead EV batteries are a big problem , only 5 % are recycled . The only way forward is a streamlined process for recovering and recycling of these minerals . We can not rely on the public to do the right thing since most don t care . $ NIO ', {'entities': []}], ['The technical advantages are clear and undisputed . And from personal experience : #ev and #heatpumps are more fun and comfortable , Fossil lobby money can and does not change thermodynamics . We must not stop stressing that . Urgency and agency , as @MichaelEMann calls it ! ', {'entities': []}], ['The Tesla brand has risked further hit to #usedcar #residualvalues and increases to monthly #finance payments with further price cuts to certain models in its #electricvehicle line up . @AMchatter #EV #Tesla #automotive ', {'entities': [[4, 9, 'company']]}], [\"To reiterate . I hate EV 's . Because the ones i drive at work seem to hate me and break on the software level constantly \", {'entities': [[22, 24, 'product']]}], ['I had a very similar story Nick ! A matter a fact I dislike electric vehicles so much the other day I removed someone is charger and left a note saying they needed a gas vehicle ! ', {'entities': [[27, 31, 'person']]}], ['Why would anyone buy an EV from other manufacturers ? With EV charging fiascos bricking brand new vehicles , unreliable and slow recharging , and the haunting new model release gremlins there s no good reason to choose anything but a Tesla . ', {'entities': [[234, 239, 'company']]}], ['i dislike fully electric vehicles only because i almost got hit by one a few weeks ago . they need a fake engine noise or something because they re way too quiet ', {'entities': []}], ['I AM GOING TO , Hydrogen is the way to go over EV for environmental reasons . I LOVE EV , BUT to get Lithium you must destroy the earth / mountains to get it out . Also , once the batteries go bad that is not good either ... BMW reveals the first image of the new 5 Series ', {'entities': [[225, 228, 'company']]}], ['I wonder how many EV drivers dislike single use plastics to one extent or another , especially the ( non - recyclable ) kind , yet have no hesitation in getting a wrap for their vehicle . Vehicle wraps ( are ) non - recyclable single use plastic no matter how pretty . ', {'entities': []}], ['All EV s need the option for a manual pre - conditioning button . I dislike the idea that it only works when you are routes to a charger . Guess what , I don t need to use navigation to get to a charger that I drive to all the time . ', {'entities': []}]]\n"
     ]
    }
   ],
   "source": [
    "with open('NER.txt', 'r') as f:\n",
    "    data = f.readlines()\n",
    "# Creation of custom entity data for input text where the company entity is to be identified by the model during prediction period\n",
    "TRAIN_DATA = []\n",
    "\n",
    "sentence = \"\"\n",
    "entities = []\n",
    "\n",
    "for line in data:\n",
    "    if line.strip() == \"\":\n",
    "        if sentence:\n",
    "            TRAIN_DATA.append([sentence, {\"entities\": entities}])\n",
    "            sentence = \"\"\n",
    "            entities = []\n",
    "    else:\n",
    "        start = 0\n",
    "        end = 0\n",
    "        tag = ''\n",
    "        word, entity = line.strip().split()\n",
    "        if entity.startswith(\"B-\"):\n",
    "            if entities and entities[-1][2:] == entity[2:]:\n",
    "                entities[-1][1] += len(entities[-1][0]) + 1\n",
    "            entities.append([len(sentence), len(sentence) + len(word), entity[2:]])\n",
    "        elif entity.startswith(\"I-\"):\n",
    "            if entities and entities[-1][2:][0] == entity[2:]:\n",
    "                entities[-1][1] += len(word) + 1\n",
    "            else:\n",
    "                entities.append([len(sentence), len(sentence) + len(word), entity[2:]])\n",
    "\n",
    "        sentence += word + \" \"\n",
    "if sentence:\n",
    "    TRAIN_DATA.append([sentence, {\"entities\": entities}])\n",
    "\n",
    "# Train data is a list of tweets with their corresponding list of entities which could be person or company\n",
    "# Format of train data : [tweet, {'entities':[]}]\n",
    "print(TRAIN_DATA)"
   ]
  },
  {
   "cell_type": "code",
   "execution_count": 4,
   "metadata": {
    "id": "AoSxHGdWG7ve"
   },
   "outputs": [],
   "source": [
    "def train_NER_model(new_model_name, label_name, output_dir, n_iter=20):\n",
    "    \n",
    "    nlp = spacy.blank('en')  # create blank model to carry out NER\n",
    "    print(\"Created blank 'en' model\")\n",
    "    \n",
    "    # set up the nlp pipeline with only 'ner' using create function\n",
    "    ner = nlp.create_pipe('ner')\n",
    "    nlp.add_pipe('ner')\n",
    "    ner.add_label('company')   # add new entity label i.e 'company' to entity recognizer\n",
    "    \n",
    "    nlp.vocab.vectors.name = 'spacy_pretrained_vectors'\n",
    "    optimizer = nlp.begin_training() # To initialize the model, thus zero out existing entity types\n",
    "    \n",
    "    for itn in tqdm(range(n_iter)):\n",
    "      random.shuffle(TRAIN_DATA)\n",
    "      losses = {}\n",
    "      batch_size = compounding(4.0, 16.0, 1.001)\n",
    "      batches = minibatch(TRAIN_DATA, size=batch_size)\n",
    "      for batch in batches:\n",
    "        examples = []\n",
    "        for text, annotations in batch:\n",
    "          examples.append(Example.from_dict(nlp.make_doc(text), annotations))\n",
    "          nlp.update(examples, sgd=optimizer, drop=0.5,losses=losses)\n",
    "      print('Losses', losses)\n",
    "    \n",
    "    # save the trained model to output directory\n",
    "    if output_dir is not None:\n",
    "      nlp.meta['name'] = new_model_name\n",
    "      save_updated_NER_model(nlp, output_dir)\n",
    "        \n",
    "    return nlp\n",
    "\n",
    "# save the trained model to output directory\n",
    "def save_updated_NER_model(model, output_dir):\n",
    "    output_dir = Path(output_dir)\n",
    "    if not output_dir.exists():\n",
    "        output_dir.mkdir()\n",
    "    \n",
    "    model.to_disk(output_dir)\n",
    "    print(\"Final model saved to\", output_dir)\n",
    "    \n",
    "# load the trained NER model    \n",
    "def load_trained_NER_model(output_dir):\n",
    "    # load the trained model\n",
    "    print(\"Loading from\", output_dir)\n",
    "    nlp_model = spacy.load(output_dir)\n",
    "    return nlp_model"
   ]
  },
  {
   "cell_type": "code",
   "execution_count": 5,
   "metadata": {
    "id": "jXDafCqPIX3k"
   },
   "outputs": [],
   "source": [
    "label = 'company'"
   ]
  },
  {
   "cell_type": "code",
   "execution_count": 6,
   "metadata": {
    "colab": {
     "base_uri": "https://localhost:8080/"
    },
    "id": "-psN31KLHnxF",
    "outputId": "377bd3e4-7421-4de9-ca78-f3bfb6f58cc6"
   },
   "outputs": [
    {
     "name": "stdout",
     "output_type": "stream",
     "text": [
      "Created blank 'en' model\n"
     ]
    },
    {
     "name": "stderr",
     "output_type": "stream",
     "text": [
      " 20%|██        | 1/5 [00:15<01:02, 15.66s/it]"
     ]
    },
    {
     "name": "stdout",
     "output_type": "stream",
     "text": [
      "Losses {'ner': 1508.0444300602321}\n"
     ]
    },
    {
     "name": "stderr",
     "output_type": "stream",
     "text": [
      "\r",
      " 40%|████      | 2/5 [00:24<00:35, 11.73s/it]"
     ]
    },
    {
     "name": "stdout",
     "output_type": "stream",
     "text": [
      "Losses {'ner': 630.2399900411579}\n"
     ]
    },
    {
     "name": "stderr",
     "output_type": "stream",
     "text": [
      "\r",
      " 60%|██████    | 3/5 [00:34<00:22, 11.09s/it]"
     ]
    },
    {
     "name": "stdout",
     "output_type": "stream",
     "text": [
      "Losses {'ner': 357.707203223397}\n"
     ]
    },
    {
     "name": "stderr",
     "output_type": "stream",
     "text": [
      "\r",
      " 80%|████████  | 4/5 [00:45<00:10, 10.88s/it]"
     ]
    },
    {
     "name": "stdout",
     "output_type": "stream",
     "text": [
      "Losses {'ner': 371.6255257488996}\n"
     ]
    },
    {
     "name": "stderr",
     "output_type": "stream",
     "text": [
      "100%|██████████| 5/5 [00:54<00:00, 10.83s/it]"
     ]
    },
    {
     "name": "stdout",
     "output_type": "stream",
     "text": [
      "Losses {'ner': 268.5609066221979}\n",
      "Final model saved to /content/drive/MyDrive/Colab Notebooks/Text Mining/NERMODEL\n"
     ]
    },
    {
     "name": "stderr",
     "output_type": "stream",
     "text": [
      "\n"
     ]
    }
   ],
   "source": [
    "out_dir='/content/drive/MyDrive/Colab Notebooks/Text Mining/NERMODEL' # Give the directory path where model needs to stored\n",
    "nlp_model = train_NER_model(new_model_name='NER_EV_Model', label_name=label,output_dir=out_dir, n_iter=5)"
   ]
  },
  {
   "cell_type": "code",
   "execution_count": 7,
   "metadata": {
    "id": "zlTE3TyFRH1g"
   },
   "outputs": [],
   "source": [
    "def test_NER_model(nlp_model, document_test, show_entities=True, style_sentence=True):\n",
    "    document = nlp_model(document_test)\n",
    "    if show_entities:\n",
    "      for entities in document.ents:\n",
    "        if(entities.label_ == 'company' and entities.text != None and entities.label_ != None):\n",
    "          print(entities.label_, entities.text)\n",
    "    if style_sentence:\n",
    "      colors = {'company': 'linear-gradient(90deg, #aa9cfc, #fc9ce7)'}\n",
    "      displacy.render(document, jupyter=True, style='ent', options={'colors': colors})"
   ]
  },
  {
   "cell_type": "code",
   "execution_count": 8,
   "metadata": {
    "colab": {
     "base_uri": "https://localhost:8080/",
     "height": 540
    },
    "id": "y_Dc8nBtRwyZ",
    "outputId": "bc6f82af-7801-4543-a593-8b6ba3156f12"
   },
   "outputs": [
    {
     "name": "stdout",
     "output_type": "stream",
     "text": [
      "Loading from /content/drive/MyDrive/Colab Notebooks/Text Mining/NERMODEL\n",
      "company Tesla\n",
      "company Volkswagen\n",
      "company Hyundai\n",
      "company Kia\n",
      "company Experian\n"
     ]
    },
    {
     "data": {
      "text/html": [
       "<span class=\"tex2jax_ignore\"><div class=\"entities\" style=\"line-height: 2.5; direction: ltr\">Revised EV incentives are pushing buyers to models made in North America, boosting EVs from \n",
       "<mark class=\"entity\" style=\"background: linear-gradient(90deg, #aa9cfc, #fc9ce7); padding: 0.45em 0.6em; margin: 0 0.25em; line-height: 1; border-radius: 0.35em;\">\n",
       "    Tesla\n",
       "    <span style=\"font-size: 0.8em; font-weight: bold; line-height: 1; border-radius: 0.35em; vertical-align: middle; margin-left: 0.5rem\">company</span>\n",
       "</mark>\n",
       ", Chevrolet and \n",
       "<mark class=\"entity\" style=\"background: linear-gradient(90deg, #aa9cfc, #fc9ce7); padding: 0.45em 0.6em; margin: 0 0.25em; line-height: 1; border-radius: 0.35em;\">\n",
       "    Volkswagen\n",
       "    <span style=\"font-size: 0.8em; font-weight: bold; line-height: 1; border-radius: 0.35em; vertical-align: middle; margin-left: 0.5rem\">company</span>\n",
       "</mark>\n",
       " to the detriment of Korean imports from \n",
       "<mark class=\"entity\" style=\"background: linear-gradient(90deg, #aa9cfc, #fc9ce7); padding: 0.45em 0.6em; margin: 0 0.25em; line-height: 1; border-radius: 0.35em;\">\n",
       "    Hyundai\n",
       "    <span style=\"font-size: 0.8em; font-weight: bold; line-height: 1; border-radius: 0.35em; vertical-align: middle; margin-left: 0.5rem\">company</span>\n",
       "</mark>\n",
       " and \n",
       "<mark class=\"entity\" style=\"background: linear-gradient(90deg, #aa9cfc, #fc9ce7); padding: 0.45em 0.6em; margin: 0 0.25em; line-height: 1; border-radius: 0.35em;\">\n",
       "    Kia\n",
       "    <span style=\"font-size: 0.8em; font-weight: bold; line-height: 1; border-radius: 0.35em; vertical-align: middle; margin-left: 0.5rem\">company</span>\n",
       "</mark>\n",
       ", \n",
       "<mark class=\"entity\" style=\"background: linear-gradient(90deg, #aa9cfc, #fc9ce7); padding: 0.45em 0.6em; margin: 0 0.25em; line-height: 1; border-radius: 0.35em;\">\n",
       "    Experian\n",
       "    <span style=\"font-size: 0.8em; font-weight: bold; line-height: 1; border-radius: 0.35em; vertical-align: middle; margin-left: 0.5rem\">company</span>\n",
       "</mark>\n",
       " data for new-vehicle registrations shows.</div></span>"
      ],
      "text/plain": [
       "<IPython.core.display.HTML object>"
      ]
     },
     "metadata": {},
     "output_type": "display_data"
    },
    {
     "name": "stdout",
     "output_type": "stream",
     "text": [
      "company Tesla\n",
      "company Lucid\n",
      "company Chevy\n",
      "company BMW\n",
      "company Nissan\n",
      "company GM\n",
      "company Ford\n"
     ]
    },
    {
     "data": {
      "text/html": [
       "<span class=\"tex2jax_ignore\"><div class=\"entities\" style=\"line-height: 2.5; direction: ltr\">BRILLIANT!!! \n",
       "<mark class=\"entity\" style=\"background: linear-gradient(90deg, #aa9cfc, #fc9ce7); padding: 0.45em 0.6em; margin: 0 0.25em; line-height: 1; border-radius: 0.35em;\">\n",
       "    Tesla\n",
       "    <span style=\"font-size: 0.8em; font-weight: bold; line-height: 1; border-radius: 0.35em; vertical-align: middle; margin-left: 0.5rem\">company</span>\n",
       "</mark>\n",
       " spends ZERO DOLLARS on advertising yet gaining from Twitter and other EV companies - VW, \n",
       "<mark class=\"entity\" style=\"background: linear-gradient(90deg, #aa9cfc, #fc9ce7); padding: 0.45em 0.6em; margin: 0 0.25em; line-height: 1; border-radius: 0.35em;\">\n",
       "    Lucid\n",
       "    <span style=\"font-size: 0.8em; font-weight: bold; line-height: 1; border-radius: 0.35em; vertical-align: middle; margin-left: 0.5rem\">company</span>\n",
       "</mark>\n",
       ", \n",
       "<mark class=\"entity\" style=\"background: linear-gradient(90deg, #aa9cfc, #fc9ce7); padding: 0.45em 0.6em; margin: 0 0.25em; line-height: 1; border-radius: 0.35em;\">\n",
       "    Chevy\n",
       "    <span style=\"font-size: 0.8em; font-weight: bold; line-height: 1; border-radius: 0.35em; vertical-align: middle; margin-left: 0.5rem\">company</span>\n",
       "</mark>\n",
       ", \n",
       "<mark class=\"entity\" style=\"background: linear-gradient(90deg, #aa9cfc, #fc9ce7); padding: 0.45em 0.6em; margin: 0 0.25em; line-height: 1; border-radius: 0.35em;\">\n",
       "    BMW\n",
       "    <span style=\"font-size: 0.8em; font-weight: bold; line-height: 1; border-radius: 0.35em; vertical-align: middle; margin-left: 0.5rem\">company</span>\n",
       "</mark>\n",
       ", \n",
       "<mark class=\"entity\" style=\"background: linear-gradient(90deg, #aa9cfc, #fc9ce7); padding: 0.45em 0.6em; margin: 0 0.25em; line-height: 1; border-radius: 0.35em;\">\n",
       "    Nissan\n",
       "    <span style=\"font-size: 0.8em; font-weight: bold; line-height: 1; border-radius: 0.35em; vertical-align: middle; margin-left: 0.5rem\">company</span>\n",
       "</mark>\n",
       ", \n",
       "<mark class=\"entity\" style=\"background: linear-gradient(90deg, #aa9cfc, #fc9ce7); padding: 0.45em 0.6em; margin: 0 0.25em; line-height: 1; border-radius: 0.35em;\">\n",
       "    GM\n",
       "    <span style=\"font-size: 0.8em; font-weight: bold; line-height: 1; border-radius: 0.35em; vertical-align: middle; margin-left: 0.5rem\">company</span>\n",
       "</mark>\n",
       ", \n",
       "<mark class=\"entity\" style=\"background: linear-gradient(90deg, #aa9cfc, #fc9ce7); padding: 0.45em 0.6em; margin: 0 0.25em; line-height: 1; border-radius: 0.35em;\">\n",
       "    Ford\n",
       "    <span style=\"font-size: 0.8em; font-weight: bold; line-height: 1; border-radius: 0.35em; vertical-align: middle; margin-left: 0.5rem\">company</span>\n",
       "</mark>\n",
       ". @Tesla @elonmusk</div></span>"
      ],
      "text/plain": [
       "<IPython.core.display.HTML object>"
      ]
     },
     "metadata": {},
     "output_type": "display_data"
    },
    {
     "name": "stdout",
     "output_type": "stream",
     "text": [
      "company Tesla\n",
      "company BMW\n",
      "company Ford\n"
     ]
    },
    {
     "data": {
      "text/html": [
       "<span class=\"tex2jax_ignore\"><div class=\"entities\" style=\"line-height: 2.5; direction: ltr\">$TSLA No other company can even come close to quality, level of craftsmanship of \n",
       "<mark class=\"entity\" style=\"background: linear-gradient(90deg, #aa9cfc, #fc9ce7); padding: 0.45em 0.6em; margin: 0 0.25em; line-height: 1; border-radius: 0.35em;\">\n",
       "    Tesla\n",
       "    <span style=\"font-size: 0.8em; font-weight: bold; line-height: 1; border-radius: 0.35em; vertical-align: middle; margin-left: 0.5rem\">company</span>\n",
       "</mark>\n",
       " when it comes to EVs. Now VW, \n",
       "<mark class=\"entity\" style=\"background: linear-gradient(90deg, #aa9cfc, #fc9ce7); padding: 0.45em 0.6em; margin: 0 0.25em; line-height: 1; border-radius: 0.35em;\">\n",
       "    BMW\n",
       "    <span style=\"font-size: 0.8em; font-weight: bold; line-height: 1; border-radius: 0.35em; vertical-align: middle; margin-left: 0.5rem\">company</span>\n",
       "</mark>\n",
       ", and \n",
       "<mark class=\"entity\" style=\"background: linear-gradient(90deg, #aa9cfc, #fc9ce7); padding: 0.45em 0.6em; margin: 0 0.25em; line-height: 1; border-radius: 0.35em;\">\n",
       "    Ford\n",
       "    <span style=\"font-size: 0.8em; font-weight: bold; line-height: 1; border-radius: 0.35em; vertical-align: middle; margin-left: 0.5rem\">company</span>\n",
       "</mark>\n",
       " are all trying hard. $TSLA</div></span>"
      ],
      "text/plain": [
       "<IPython.core.display.HTML object>"
      ]
     },
     "metadata": {},
     "output_type": "display_data"
    }
   ],
   "source": [
    "nlp_trained_model = load_trained_NER_model(output_dir=out_dir)\n",
    "\n",
    "# Predict entities in test tweets\n",
    "company_list = []\n",
    "final_list = []\n",
    "sample_docs = ['Revised EV incentives are pushing buyers to models made in North America, boosting EVs from Tesla, Chevrolet and Volkswagen to the detriment of Korean imports from Hyundai and Kia, Experian data for new-vehicle registrations shows.',\n",
    "               'BRILLIANT!!! Tesla spends ZERO DOLLARS on advertising yet gaining from Twitter and other EV companies - VW, Lucid, Chevy, BMW, Nissan, GM, Ford. @Tesla @elonmusk',\n",
    "               '$TSLA No other company can even come close to quality, level of craftsmanship of Tesla when it comes to EVs. Now VW, BMW, and Ford are all trying hard. $TSLA']\n",
    "for test_doc in sample_docs:\n",
    "  test_NER_model(nlp_trained_model, test_doc)"
   ]
  }
 ],
 "metadata": {
  "colab": {
   "provenance": []
  },
  "kernelspec": {
   "display_name": "Python 3",
   "language": "python",
   "name": "python3"
  },
  "language_info": {
   "codemirror_mode": {
    "name": "ipython",
    "version": 3
   },
   "file_extension": ".py",
   "mimetype": "text/x-python",
   "name": "python",
   "nbconvert_exporter": "python",
   "pygments_lexer": "ipython3",
   "version": "3.10.7"
  }
 },
 "nbformat": 4,
 "nbformat_minor": 1
}
